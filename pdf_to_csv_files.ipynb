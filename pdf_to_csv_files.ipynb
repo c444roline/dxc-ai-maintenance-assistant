{
  "nbformat": 4,
  "nbformat_minor": 0,
  "metadata": {
    "colab": {
      "provenance": [],
      "include_colab_link": true
    },
    "kernelspec": {
      "name": "python3",
      "display_name": "Python 3"
    },
    "language_info": {
      "name": "python"
    }
  },
  "cells": [
    {
      "cell_type": "markdown",
      "metadata": {
        "id": "view-in-github",
        "colab_type": "text"
      },
      "source": [
        "<a href=\"https://colab.research.google.com/github/c444roline/dxc-ai-maintenance-assistant/blob/main/pdf_to_csv_files.ipynb\" target=\"_parent\"><img src=\"https://colab.research.google.com/assets/colab-badge.svg\" alt=\"Open In Colab\"/></a>"
      ]
    },
    {
      "cell_type": "code",
      "source": [
        "!apt-get install -y poppler-utils\n",
        "!pip install pdf2image pytesseract\n",
        "!apt-get install -y tesseract-ocr\n",
        "!ls /content\n"
      ],
      "metadata": {
        "colab": {
          "base_uri": "https://localhost:8080/"
        },
        "collapsed": true,
        "id": "jNKoARjmy2Za",
        "outputId": "cd4a8236-2864-4fa4-a99c-52d56e29017b"
      },
      "execution_count": null,
      "outputs": [
        {
          "output_type": "stream",
          "name": "stdout",
          "text": [
            "Reading package lists... Done\n",
            "Building dependency tree... Done\n",
            "Reading state information... Done\n",
            "poppler-utils is already the newest version (22.02.0-2ubuntu0.5).\n",
            "0 upgraded, 0 newly installed, 0 to remove and 49 not upgraded.\n",
            "Requirement already satisfied: pdf2image in /usr/local/lib/python3.10/dist-packages (1.17.0)\n",
            "Requirement already satisfied: pytesseract in /usr/local/lib/python3.10/dist-packages (0.3.13)\n",
            "Requirement already satisfied: pillow in /usr/local/lib/python3.10/dist-packages (from pdf2image) (10.4.0)\n",
            "Requirement already satisfied: packaging>=21.3 in /usr/local/lib/python3.10/dist-packages (from pytesseract) (24.1)\n",
            "Reading package lists... Done\n",
            "Building dependency tree... Done\n",
            "Reading state information... Done\n",
            "tesseract-ocr is already the newest version (4.1.1-2.1build1).\n",
            "0 upgraded, 0 newly installed, 0 to remove and 49 not upgraded.\n",
            "drive  sample_data\n"
          ]
        }
      ]
    },
    {
      "cell_type": "code",
      "execution_count": null,
      "metadata": {
        "colab": {
          "base_uri": "https://localhost:8080/"
        },
        "id": "wnYTiT3ZvTrb",
        "outputId": "0f936371-141a-484d-8dda-5e62395c78ca"
      },
      "outputs": [
        {
          "output_type": "stream",
          "name": "stdout",
          "text": [
            "CSV created: /content/drive/MyDrive/dxc_team/project_data/csv/Blow molding basics.csv\n",
            "CSV created: /content/drive/MyDrive/dxc_team/project_data/csv/Dupont blow moulding manual.csv\n",
            "CSV created: /content/drive/MyDrive/dxc_team/project_data/csv/pdfcoffee.com_pet-bottle-faults-pdf-free.csv\n",
            "CSV created: /content/drive/MyDrive/dxc_team/project_data/csv/stressesinpebottles.csv\n",
            "Conversion completed. Listing CSV files:\n",
            "ls: cannot access '/content/csv': No such file or directory\n"
          ]
        }
      ],
      "source": [
        "import os\n",
        "from pdf2image import convert_from_path\n",
        "import pytesseract\n",
        "import pandas as pd\n",
        "\n",
        "# Define the paths to your PDF and CSV folders\n",
        "pdf_folder_path = '/content/drive/MyDrive/sample_data/Documents'\n",
        "csv_folder_path = '/content/drive/MyDrive/dxc_team/project_data/csv'\n",
        "\n",
        "# Create the CSV folder if it doesn't exist\n",
        "if not os.path.exists(csv_folder_path):\n",
        "    os.makedirs(csv_folder_path)\n",
        "\n",
        "# Loop through all PDF files in the folder\n",
        "for filename in os.listdir(pdf_folder_path):\n",
        "    if filename.endswith('.pdf'):\n",
        "        pdf_filepath = os.path.join(pdf_folder_path, filename)\n",
        "        csv_filepath = os.path.join(csv_folder_path, filename[:-4] + '.csv')  # Change .pdf to .csv\n",
        "\n",
        "        # Convert each page of the PDF to an image\n",
        "        pages = convert_from_path(pdf_filepath, 300)  # Resolution of 300 DPI\n",
        "\n",
        "        text = ''\n",
        "        for page_num, page in enumerate(pages):\n",
        "            # Use Tesseract to extract text from the image\n",
        "            page_text = pytesseract.image_to_string(page)\n",
        "            text += page_text\n",
        "\n",
        "        # Split the text into lines and store in a DataFrame\n",
        "        lines = text.split('\\n')\n",
        "        data = []\n",
        "        for line in lines:\n",
        "            if line.strip():  # Skip empty lines\n",
        "                data.append([line])  # Each line becomes one row in the DataFrame\n",
        "\n",
        "        # Convert list to DataFrame\n",
        "        df = pd.DataFrame(data, columns=['Text'])\n",
        "\n",
        "        # Save DataFrame to CSV\n",
        "        df.to_csv(csv_filepath, index=False)\n",
        "        print(f\"CSV created: {csv_filepath}\")\n",
        "\n",
        "# List the CSV files to confirm they're created\n",
        "print(\"Conversion completed. Listing CSV files:\")\n",
        "!ls '/content/drive/MyDrive/dxc_team/project_data/csv'\n"
      ]
    }
  ]
}