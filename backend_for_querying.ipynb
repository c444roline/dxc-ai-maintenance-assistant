{
 "cells": [
  {
   "cell_type": "markdown",
   "metadata": {},
   "source": [
    "Started once text preprocessing and vector database setup was finished :)"
   ]
  }
 ],
 "metadata": {
  "language_info": {
   "name": "python"
  }
 },
 "nbformat": 4,
 "nbformat_minor": 2
}
