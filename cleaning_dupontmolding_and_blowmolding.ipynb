{
  "nbformat": 4,
  "nbformat_minor": 0,
  "metadata": {
    "colab": {
      "provenance": [],
      "include_colab_link": true
    },
    "kernelspec": {
      "name": "python3",
      "display_name": "Python 3"
    },
    "language_info": {
      "name": "python"
    }
  },
  "cells": [
    {
      "cell_type": "markdown",
      "metadata": {
        "id": "view-in-github",
        "colab_type": "text"
      },
      "source": [
        "<a href=\"https://colab.research.google.com/github/c444roline/dxc-ai-maintenance-assistant/blob/main/cleaning_dupontmolding_and_blowmolding.ipynb\" target=\"_parent\"><img src=\"https://colab.research.google.com/assets/colab-badge.svg\" alt=\"Open In Colab\"/></a>"
      ]
    },
    {
      "cell_type": "code",
      "execution_count": null,
      "metadata": {
        "colab": {
          "base_uri": "https://localhost:8080/"
        },
        "id": "hEuaywvlpuhW",
        "outputId": "11d29a57-b651-4bd0-b205-ddfdc2b4bca5"
      },
      "outputs": [
        {
          "output_type": "stream",
          "name": "stdout",
          "text": [
            "Mounted at /content/drive\n",
            "Dupont_blow_moulding_manual.csv loaded successfully.\n",
            "Blow_molding_basics.csv loaded successfully.\n"
          ]
        }
      ],
      "source": [
        "# Importing necessary libraries\n",
        "import pandas as pd\n",
        "from google.colab import drive\n",
        "import os\n",
        "\n",
        "# Mount Google Drive\n",
        "drive.mount('/content/drive', force_remount=True)\n",
        "\n",
        "# Define the paths to the CSV files\n",
        "dupont_blow_moulding_path = os.path.join('/content/drive/MyDrive/dxc_team/project_data/csv/', 'Dupont_blow_moulding_manual.csv')\n",
        "blow_molding_basics_path = os.path.join('/content/drive/MyDrive/dxc_team/project_data/csv/', 'Blow_molding_basics.csv')\n",
        "\n",
        "# Load the CLEANED_dupont_blow_moulding.csv into a pandas DataFrame with a different encoding\n",
        "if os.path.exists(dupont_blow_moulding_path):\n",
        "    df_1 = pd.read_csv(dupont_blow_moulding_path, encoding='ISO-8859-1')\n",
        "    print(\"Dupont_blow_moulding_manual.csv loaded successfully.\")\n",
        "else:\n",
        "    print(\"Dupont_blow_moulding_manual.csv not found.\")\n",
        "\n",
        "# Load the Blow_molding_basics.csv into a pandas DataFrame\n",
        "if os.path.exists(blow_molding_basics_path):\n",
        "    df_2 = pd.read_csv(blow_molding_basics_path, encoding='ISO-8859-1')\n",
        "    print(\"Blow_molding_basics.csv loaded successfully.\")\n",
        "else:\n",
        "    print(\"Blow_molding_basics.csv not found.\")\n"
      ]
    },
    {
      "cell_type": "code",
      "source": [
        "#cleaning Dupont_blow_moulding_manual.csv file! (in progress)"
      ],
      "metadata": {
        "id": "BDQgUQLLmP-f"
      },
      "execution_count": null,
      "outputs": []
    },
    {
      "cell_type": "code",
      "source": [
        "import pandas as pd\n",
        "import re\n",
        "\n",
        "def extract_sections_with_indices(df):\n",
        "    # Define sections and their respective subsections with starting rows\n",
        "    sections_subsections = {\n",
        "    \"1 DuPont resins for blow moulding\": [\n",
        "            {\"subsection\": \"1.1 Why blow mould engineering resins\", \"start_row\": 6, \"end_row\": 131},\n",
        "            {\"subsection\": \"1.2 ZYTEL® nylon resins for blow moulding\", \"start_row\": 139, \"end_row\": 515},\n",
        "            {\"subsection\": \"1.3 HYTREL® and CRASTIN® polyester resins for blow moulding\", \"start_row\": 525, \"end_row\": 824}\n",
        "    ],\n",
        "    \"2 Description of blow moulding processes\": [\n",
        "            {\"subsection\": \"2.1 General\", \"start_row\": 833, \"end_row\": 959},\n",
        "            {\"subsection\": \"2.2 Continuous extrusion machines\", \"start_row\": 964, \"end_row\": 1101},\n",
        "            {\"subsection\": \"2.3 Accumulator head machines\", \"start_row\": 1106, \"end_row\": 1270},\n",
        "            {\"subsection\": \"2.4 Co-extrusion and sequential 3-D blow moulding\", \"start_row\": 1278, \"end_row\": 1982},\n",
        "            {\"subsection\": \"2.5 Injection blow moulding\", \"start_row\": 1987, \"end_row\": 2277}\n",
        "    ],\n",
        "    \"3 The blow moulding machine – Important considerations\": [\n",
        "        {\"subsection\": \"3.1 Screw and barrel design\", \"start_row\": 2283, \"end_row\": 2760},\n",
        "        {\"subsection\": \"3.2 Manifold/adapter design\", \"start_row\": 2764, \"end_row\": 2912},\n",
        "        {\"subsection\": \"3.3 Accumulator and continuous extrusion head design\", \"start_row\": 2920, \"end_row\": 3011},\n",
        "        {\"subsection\": \"3.4 Die/head tooling design\", \"start_row\": 3016, \"end_row\": 3153},\n",
        "        {\"subsection\": \"3.5 Parison cutters\", \"start_row\": 3157, \"end_row\": 3223},\n",
        "        {\"subsection\": \"3.6 Mould clamping force\", \"start_row\": 3228, \"end_row\": 3294},\n",
        "        {\"subsection\": \"3.7 Temperature control\", \"start_row\": 3298, \"end_row\": 3508},\n",
        "        {\"subsection\": \"3.8 Auxiliary equipment\", \"start_row\": 3512, \"end_row\": 3733}\n",
        "    ],\n",
        "    \"4 Machine operating conditions\": [\n",
        "        {\"subsection\": \"4.1 Quick reference – Processing conditions\", \"start_row\": 3750, \"end_row\": 3870},\n",
        "        {\"subsection\": \"4.2 Barrel temperatures\", \"start_row\": 3874, \"end_row\": 4015},\n",
        "        {\"subsection\": \"4.3 Adapter, head and die temperature\", \"start_row\": 4022, \"end_row\": 4387},\n",
        "        {\"subsection\": \"4.4 Accumulator push-out pressures and speeds\", \"start_row\": 4394, \"end_row\": 4540},\n",
        "        {\"subsection\": \"4.5 Parison programming\", \"start_row\": 4544, \"end_row\": 4639},\n",
        "        {\"subsection\": \"4.6 Mould temperature\", \"start_row\": 4643, \"end_row\": 4747},\n",
        "        {\"subsection\": \"4.7 Start-up procedures\", \"start_row\": 4751, \"end_row\": 5133},\n",
        "        {\"subsection\": \"4.8 Purging and shutdown\", \"start_row\": 5138, \"end_row\": 5661},\n",
        "        {\"subsection\": \"4.9 Secondary operations: trimming, welding\", \"start_row\": 5665, \"end_row\": 5937},\n",
        "        {\"subsection\": \"4.10 Special conditions for injection blow moulding and 'Pressblower' operation\", \"start_row\": 5949, \"end_row\": 6113},\n",
        "    ],\n",
        "    \"5 Handling of blow moulding resins\": [\n",
        "        {\"subsection\": \"5.1 Effects of moisture\", \"start_row\": 6124, \"end_row\": 6331},\n",
        "        {\"subsection\": \"5.2 Drying\", \"start_row\": 6334, \"end_row\": 6539},\n",
        "        {\"subsection\": \"5.3 Regrind\", \"start_row\": 6542, \"end_row\": 6832},\n",
        "        {\"subsection\": \"5.4 Bulk storage\", \"start_row\": 6836, \"end_row\": 7107}\n",
        "    ],\n",
        "    \"6 Mould design guidance\": [\n",
        "        {\"subsection\": \"6.1 General\", \"start_row\": 7114, \"end_row\": 7150},\n",
        "        {\"subsection\": \"6.2 Materials of construction\", \"start_row\": 7155, \"end_row\": 7341},\n",
        "        {\"subsection\": \"6.3 Blow-up (draw) ratio\", \"start_row\": 7346, \"end_row\": 7442},\n",
        "        {\"subsection\": \"6.4 Mould shrinkage allowances and part dimensions\", \"start_row\": 7450, \"end_row\": 7640},\n",
        "        {\"subsection\": \"6.5 Pinch-off designs\", \"start_row\": 7644, \"end_row\": 7786},\n",
        "        {\"subsection\": \"6.6 Other mould considerations\", \"start_row\": 7791, \"end_row\": 8130}\n",
        "    ]\n",
        "    }\n",
        "\n",
        "    # Prepare to store the extracted data\n",
        "    data = []\n",
        "\n",
        "    # Iterate over each section and its subsections\n",
        "    for section, subsections in sections_subsections.items():\n",
        "        for subsection_info in subsections:\n",
        "            subsection = subsection_info[\"subsection\"]\n",
        "            start_row = subsection_info[\"start_row\"]\n",
        "            end_row = subsection_info[\"end_row\"]\n",
        "\n",
        "            # Extract text content for each subsection only from the first column\n",
        "            text_block = df.iloc[start_row-1:end_row, 0].astype(str).tolist()  # Note that start_row-1 is used\n",
        "            subsection_text = \" \".join(text_block).strip()\n",
        "\n",
        "            # Fix encoding issues by replacing problematic characters\n",
        "            subsection_text = (\n",
        "                subsection_text.encode('latin1').decode('utf-8')  # Fix common encoding issues\n",
        "                .replace('â€“', '–')  # Fix dash issues\n",
        "                .replace('Â°C', '°C')  # Fix degree symbols\n",
        "                .replace('â€\"', '“')  # Fix quotes\n",
        "                .replace('â€', '”')  # Fix quotes\n",
        "            )\n",
        "\n",
        "            # Append the row with full section and subsection info and text\n",
        "            data.append([section, subsection, subsection_text])\n",
        "\n",
        "    # Create a structured DataFrame with section, subsection, and text columns\n",
        "    organized_sections = pd.DataFrame(data, columns=['section', 'subsection', 'text'])\n",
        "\n",
        "    return organized_sections\n",
        "\n",
        "# Apply the function on the DataFrame\n",
        "organized_sections = extract_sections_with_indices(df_1)\n",
        "\n",
        "# Display the full organized data\n",
        "organized_sections\n",
        "# Save to CSV\n",
        "output_path = '/content/drive/MyDrive/organized_Dupont_blow_moulding_manual.csv'\n",
        "organized_sections.to_csv(output_path, index=False)\n",
        "print(f\"File saved to {output_path}\")\n"
      ],
      "metadata": {
        "id": "1CaeXbARp4gE",
        "colab": {
          "base_uri": "https://localhost:8080/"
        },
        "outputId": "442d4255-313e-4eb7-f057-af8755119145"
      },
      "execution_count": null,
      "outputs": [
        {
          "output_type": "stream",
          "name": "stdout",
          "text": [
            "File saved to /content/drive/MyDrive/organized_Dupont_blow_moulding_manual.csv\n"
          ]
        }
      ]
    },
    {
      "cell_type": "markdown",
      "source": [
        "Not sure what this is below but i'm leaving it untouched LOL - jimena"
      ],
      "metadata": {
        "id": "YkxxzI7XkGot"
      }
    },
    {
      "cell_type": "code",
      "source": [
        "#cleaned Blow_molding_basics.csv file! (make sure each block of information is correct)\n",
        "import pandas as pd\n",
        "\n",
        "# Function to extract sections based on predefined row indices\n",
        "def extract_sections_with_indices(df):\n",
        "    # Define the start rows for each section, based on your provided indices\n",
        "    sections = {\n",
        "        \"Introduction\": 3,\n",
        "        \"Resins\": 494,\n",
        "        \"Processes\": 712,\n",
        "        \"Injection Blow Moulding\": 932,\n",
        "        \"Injection Blow-Mold Tooling\": 1605,\n",
        "        \"Troubleshooting Injection Blow Molding\": 3297,\n",
        "        \"Setup for Injection Blow Tooling\": 3424,\n",
        "        \"Extrusion Blow-Molding\": 3743,\n",
        "        \"Formulas\": 5211,\n",
        "        \"Die/Weight Swell\": 5705,\n",
        "        \"Heat Extraction Load\": 5814,\n",
        "        \"Metals Used in Blow Molds\": 6826,\n",
        "        \"Shrinkage\": 6929,\n",
        "        \"Venting\": 7130,\n",
        "        \"Stretch Blow Molding\": 8517,\n",
        "        \"Other Blow-Molding Operations\": 10563,\n",
        "        \"BIBLIOGRAPHY\": 11760,\n",
        "        \"GENERAL REFERENCES\": 12187\n",
        "    }\n",
        "\n",
        "    # Sort sections by their start rows\n",
        "    sorted_sections = sorted(sections.items(), key=lambda x: x[1])\n",
        "\n",
        "    data = []\n",
        "    for i in range(len(sorted_sections)):\n",
        "        section_name, start_row = sorted_sections[i]\n",
        "\n",
        "        # Determine the end row based on the next section's start or the end of the DataFrame\n",
        "        if i + 1 < len(sorted_sections):\n",
        "            end_row = sorted_sections[i + 1][1]\n",
        "        else:\n",
        "            end_row = len(df)\n",
        "\n",
        "        # Extract text starting from the start_row (including it)\n",
        "        section_text = \" \".join(df.iloc[start_row-1:end_row, 0].astype(str).tolist()).strip()\n",
        "\n",
        "        # Append the extracted section and its content\n",
        "        data.append([section_name, section_text])\n",
        "\n",
        "    return pd.DataFrame(data, columns=['section', 'text'])\n",
        "\n",
        "# Apply the function\n",
        "organized_sections = extract_sections_with_indices(df_2)\n",
        "\n",
        "# Display and save the organized sections DataFrame\n",
        "display(organized_sections)\n",
        "\n",
        "# Save to CSV\n",
        "output_path = '/content/drive/MyDrive/organized_blow_molding_basics.csv'\n",
        "organized_sections.to_csv(output_path, index=False)\n",
        "print(f\"File saved to {output_path}\")"
      ],
      "metadata": {
        "id": "8gtXCLh0p9R7",
        "colab": {
          "base_uri": "https://localhost:8080/",
          "height": 218
        },
        "outputId": "11c89313-73ee-4c44-e79a-92b14a494c5b"
      },
      "execution_count": null,
      "outputs": [
        {
          "output_type": "error",
          "ename": "NameError",
          "evalue": "name 'df_2' is not defined",
          "traceback": [
            "\u001b[0;31m---------------------------------------------------------------------------\u001b[0m",
            "\u001b[0;31mNameError\u001b[0m                                 Traceback (most recent call last)",
            "\u001b[0;32m<ipython-input-6-77e24fe53f85>\u001b[0m in \u001b[0;36m<cell line: 50>\u001b[0;34m()\u001b[0m\n\u001b[1;32m     48\u001b[0m \u001b[0;34m\u001b[0m\u001b[0m\n\u001b[1;32m     49\u001b[0m \u001b[0;31m# Apply the function\u001b[0m\u001b[0;34m\u001b[0m\u001b[0;34m\u001b[0m\u001b[0m\n\u001b[0;32m---> 50\u001b[0;31m \u001b[0morganized_sections\u001b[0m \u001b[0;34m=\u001b[0m \u001b[0mextract_sections_with_indices\u001b[0m\u001b[0;34m(\u001b[0m\u001b[0mdf_2\u001b[0m\u001b[0;34m)\u001b[0m\u001b[0;34m\u001b[0m\u001b[0;34m\u001b[0m\u001b[0m\n\u001b[0m\u001b[1;32m     51\u001b[0m \u001b[0;34m\u001b[0m\u001b[0m\n\u001b[1;32m     52\u001b[0m \u001b[0;31m# Display and save the organized sections DataFrame\u001b[0m\u001b[0;34m\u001b[0m\u001b[0;34m\u001b[0m\u001b[0m\n",
            "\u001b[0;31mNameError\u001b[0m: name 'df_2' is not defined"
          ]
        }
      ]
    }
  ]
}